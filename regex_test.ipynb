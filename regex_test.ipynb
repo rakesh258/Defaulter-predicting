{
 "cells": [
  {
   "cell_type": "code",
   "execution_count": 37,
   "id": "09e9d060",
   "metadata": {},
   "outputs": [],
   "source": [
    "text = '''\n",
    "Note 1 - Overview first stack\n",
    "9934657866 My name is Ritwik and my mobile number is 9934657867 and i live at Bangalore 8834235734.Tesla cfo number (999)-333-7777\n",
    "\n",
    "Note 2 - Overview of the sample\n",
    "The goal of this project is to develop an Extractive Question Answering (QA) FY2021 Q1 was $6.34 model that can accurately \n",
    "and efficiently retrieve answers from a given text corpus. The model will leverage state-of-the-art \n",
    "techniques and deep learning architectures to extract rakesh25892@gmail.com relevant fy2022 Q1 was $43.45 information from a FY2023 Q2 passage and answer user queries precisely.\n",
    "FY2023 Q6\n",
    "'''\n",
    "# Here quater 6 is note valid so take [1234] "
   ]
  },
  {
   "cell_type": "code",
   "execution_count": 1,
   "id": "0db41a50",
   "metadata": {},
   "outputs": [],
   "source": [
    "import re\n",
    "# words_without_numbers = re.findall(r'\\b[A-Za-z]+\\b', text)\n",
    "# words_with_numbers = re.findall(r'\\b[A-Za-z]+\\d+[A-Za-z]*\\b', text)\n",
    "# words_without_numbers\n",
    "#re.findall('[A-Za-z0-9]+', text)"
   ]
  },
  {
   "cell_type": "code",
   "execution_count": 92,
   "id": "5abb91e9",
   "metadata": {},
   "outputs": [
    {
     "data": {
      "text/plain": [
       "['9934657866', '9934657867', '8834235734', '(999)-333-7777']"
      ]
     },
     "execution_count": 92,
     "metadata": {},
     "output_type": "execute_result"
    }
   ],
   "source": [
    "import re\n",
    "#phone number\n",
    "pattern = '\\d{10}|\\(\\d{3}\\)-\\d{3}-\\d{4}'\n",
    "re.findall(pattern, text)\n"
   ]
  },
  {
   "cell_type": "code",
   "execution_count": 33,
   "id": "adf3874c",
   "metadata": {},
   "outputs": [
    {
     "data": {
      "text/plain": [
       "['+6032-007 1212', '+6999.100 3444', '017-7778800']"
      ]
     },
     "execution_count": 33,
     "metadata": {},
     "output_type": "execute_result"
    }
   ],
   "source": [
    "# complex one\n",
    "text = \"sample phone number +6032-007 1212, +6999.100 3444, 017-7778800 etc.\"\n",
    "pattern = \"\\+\\d\\d{3}[-.]\\d{3} \\d{4}|\\d{3}[-.]\\d{3}\\d{4}\" #\\s? is for space\n",
    "re.findall(pattern, text)"
   ]
  },
  {
   "cell_type": "code",
   "execution_count": 88,
   "id": "afa9c743",
   "metadata": {},
   "outputs": [
    {
     "name": "stdout",
     "output_type": "stream",
     "text": [
      "['Note 1 - Overview first stack', 'Note 2 - Overview of the sample']\n",
      "['Overview first stack', 'Overview of the sample']\n"
     ]
    }
   ],
   "source": [
    "pattern = 'Note \\d - [^\\n]*' # or 'Note \\d - ([^\\n]+)'\n",
    "pattern2 = 'Note \\d - ([^\\n]+)'\n",
    "p1 = re.findall(pattern, text)\n",
    "print(p1)\n",
    "p2 = re.findall(pattern2, text)\n",
    "print(p2)"
   ]
  },
  {
   "cell_type": "code",
   "execution_count": 48,
   "id": "a06ca94f",
   "metadata": {},
   "outputs": [],
   "source": [
    "# financial year\n",
    "pattern = \"FY\\d{4} Q[1234]\" # or \"FY\\d{4} Q[1-4]\""
   ]
  },
  {
   "cell_type": "code",
   "execution_count": 49,
   "id": "82fcbb3e",
   "metadata": {},
   "outputs": [
    {
     "data": {
      "text/plain": [
       "['FY2021 Q1', 'fy2022 Q1', 'FY2023 Q2']"
      ]
     },
     "execution_count": 49,
     "metadata": {},
     "output_type": "execute_result"
    }
   ],
   "source": [
    "re.findall(pattern, text, flags=re.IGNORECASE)"
   ]
  },
  {
   "cell_type": "code",
   "execution_count": 85,
   "id": "8be20f47",
   "metadata": {},
   "outputs": [
    {
     "data": {
      "text/plain": [
       "['$6.34', '$43.45']"
      ]
     },
     "execution_count": 85,
     "metadata": {},
     "output_type": "execute_result"
    }
   ],
   "source": [
    "pattern= \"\\$[\\d\\.]+\" # or \"\\$[0-9\\.]+\"\n",
    "# without $\n",
    "#pattern = '\\$([\\d\\.]+)'\n",
    "\n",
    "re.findall(pattern, text, flags=re.IGNORECASE)\n"
   ]
  },
  {
   "cell_type": "code",
   "execution_count": 57,
   "id": "da150dd1",
   "metadata": {},
   "outputs": [
    {
     "data": {
      "text/plain": [
       "[('FY2021 Q1', '$6.34'), ('fy2022 Q1', '$43.45')]"
      ]
     },
     "execution_count": 57,
     "metadata": {},
     "output_type": "execute_result"
    }
   ],
   "source": [
    "pattern = 'FY\\d{4} Q[1234][^\\$]+\\$[\\d\\.]+' ### this is [^\\$] for was in sentence\n",
    "pattern = '(FY\\d{4} Q[1234])[^\\$]+(\\$[\\d\\.]+)'\n",
    "re.findall(pattern, text, flags=re.IGNORECASE)"
   ]
  },
  {
   "cell_type": "code",
   "execution_count": 13,
   "id": "93ac35f3",
   "metadata": {},
   "outputs": [
    {
     "data": {
      "text/plain": [
       "['rakesh25892@gmail.com',\n",
       " 'r.g@gmail.com',\n",
       " 'do$c@amazon.co.uk',\n",
       " 'sd_pk@gmail.com',\n",
       " 'rakesh.sah@edu.in',\n",
       " '123.rr@gmail.com',\n",
       " '123rr@demo.co.in']"
      ]
     },
     "execution_count": 13,
     "metadata": {},
     "output_type": "execute_result"
    }
   ],
   "source": [
    "# https://www.youtube.com/watch?v=V_BozMwoYe4&list=WL&index=37&t=709s\n",
    "text2 = '''rakesh25892@gmail.com is my email other is r.g@gmail.com and more \n",
    "other is do$c@amazon.co.uk , sd_pk@gmail.com, rakesh.sah@edu.in, 123.rr@gmail.com, 123rr@demo.co.in\"\n",
    "'''\n",
    "# pattern = '[\\w\\.-]+@[\\w\\.-]+'\n",
    "# pattern = '[\\w\\.]+@[\\w\\.]+'\n",
    "pattern = '[\\w.\\$]+@[\\w.]+'\n",
    "re.findall(pattern, text2)"
   ]
  },
  {
   "cell_type": "code",
   "execution_count": null,
   "id": "6a74f256",
   "metadata": {},
   "outputs": [],
   "source": [
    "[\\w\\.-]+@[\\w\\.-]+\n",
    "/\n",
    "gm\n",
    "Match a single character present in the list below [\\w\\.-]\n",
    "+ matches the previous token between one and unlimited times, as many times as possible, giving back as needed (greedy)\n",
    "\\w matches any word character (equivalent to [a-zA-Z0-9_])\n",
    "\\. matches the character . with index 4610 (2E16 or 568) literally (case sensitive)\n",
    "- matches the character - with index 4510 (2D16 or 558) literally (case sensitive)\n",
    "@ matches the character @ with index 6410 (4016 or 1008) literally (case sensitive)\n",
    "Match a single character present in the list below [\\w\\.-]\n",
    "+ matches the previous token between one and unlimited times, as many times as possible, giving back as needed (greedy)\n",
    "\\w matches any word character (equivalent to [a-zA-Z0-9_])\n",
    "\\. matches the character . with index 4610 (2E16 or 568) literally (case sensitive)\n",
    "- matches the character - with index 4510 (2D16 or 558) literally (case sensitive)\n",
    "Global pattern flags \n",
    "g modifier: global. All matches (don't return after first match)\n",
    "m modifier: multi line. Causes ^ and $ to match the begin/end of each line (not only begin/end of string)"
   ]
  },
  {
   "cell_type": "code",
   "execution_count": 63,
   "id": "798d40e1",
   "metadata": {},
   "outputs": [
    {
     "data": {
      "text/plain": [
       "['345', '34567', '4810', '2E16']"
      ]
     },
     "execution_count": 63,
     "metadata": {},
     "output_type": "execute_result"
    }
   ],
   "source": [
    "text3 = '''matches the previous token between one and unlimited times, as many times as possible, giving back as needed (greedy)\n",
    "345, for 34567, 4810 and for the 2E16'''\n",
    "\n",
    "pattern = \"\\d{3,5}|\\d{1}[a-zA-Z]{1}\\d{2}\"\n",
    "re.findall(pattern, text3)"
   ]
  },
  {
   "cell_type": "code",
   "execution_count": 66,
   "id": "dd9f28af",
   "metadata": {},
   "outputs": [
    {
     "data": {
      "text/plain": [
       "['345', '34567', '4810', '2E16']"
      ]
     },
     "execution_count": 66,
     "metadata": {},
     "output_type": "execute_result"
    }
   ],
   "source": [
    "text3 = '''matches the previous token between one and unlimited times, as many times as possible, giving back as needed (greedy)\n",
    "345, for 34567, 4810 and for the 2E16'''\n",
    "\n",
    "dd = re.compile(r\"\\d{3,5}|\\d{1}[a-zA-Z]{1}\\d{2}\")\n",
    "ff = dd.finditer(text3)\n",
    "[i.group() for i in ff]\n",
    "            "
   ]
  },
  {
   "cell_type": "code",
   "execution_count": 59,
   "id": "407bef48",
   "metadata": {},
   "outputs": [
    {
     "data": {
      "text/plain": [
       "['25-05-2023', '23.09.2021', '02/apr/2025', '05/06/2024']"
      ]
     },
     "execution_count": 59,
     "metadata": {},
     "output_type": "execute_result"
    }
   ],
   "source": [
    "text5 = \"hi my name as abhi dob is 25-05-2023, 23.09.2021, 02/apr/2025, 05/06/2024\"\n",
    "#pattern = \"\\d{2}\\/[A-Za-z]{3}\\/\\d{4}|\\d{2}[-.]\\d{2}[-.]\\d{4}\"\n",
    "\n",
    "pattern = \"\\d{2}[-./][A-Za-z0-9]{2,3}[-./]\\d{4}\"\n",
    "re.findall(pattern, text5)"
   ]
  },
  {
   "cell_type": "code",
   "execution_count": 93,
   "id": "9091aa0a",
   "metadata": {},
   "outputs": [
    {
     "data": {
      "text/plain": [
       "['$12,00', '$123,000']"
      ]
     },
     "execution_count": 93,
     "metadata": {},
     "output_type": "execute_result"
    }
   ],
   "source": [
    "text= 'my income is $12,00 and for $123,000'\n",
    "pattern = '\\$[\\d,]+'\n",
    "re.findall(pattern, text)"
   ]
  },
  {
   "cell_type": "code",
   "execution_count": 5,
   "id": "f57b375a",
   "metadata": {},
   "outputs": [],
   "source": [
    "#print('old\\new')#print(r'old\\new')"
   ]
  },
  {
   "cell_type": "code",
   "execution_count": 6,
   "id": "6ba38e86",
   "metadata": {},
   "outputs": [
    {
     "name": "stdout",
     "output_type": "stream",
     "text": [
      "123\n"
     ]
    }
   ],
   "source": [
    "text = \"ABC 123 quety 223 @@2 box 234\"\n",
    "pattern = \"\\d\\d\\d\"\n",
    "match = re.search(pattern, text)\n",
    "if match:\n",
    "    print(match.group())\n",
    "    \n",
    "    "
   ]
  },
  {
   "cell_type": "code",
   "execution_count": 2,
   "id": "3d68e6e3",
   "metadata": {},
   "outputs": [],
   "source": [
    "text = '''\n",
    "Note 1 - Overview\n",
    "Tesla, Inc. (“Tesla”, the “Company”, “we”, “us” or “our”) was incorporated in the State of Delaware on July 1, 2003. We design, develop, manufacture and sell high-performance fully electric vehicles and design, manufacture, install and sell solar energy generation and energy storage\n",
    "products. Our Chief Executive Officer, as the chief operating decision maker (“CODM”), organizes our company, manages resource allocations and measures performance among two operating and reportable segments: (i) automotive and (ii) energy generation and storage.\n",
    "Beginning in the first quarter of 2021, there has been a trend in many parts of the world of increasing availability and administration of vaccines\n",
    "against COVID-19, as well as an easing of restrictions on social, business, travel and government activities and functions. On the other hand, infection\n",
    "rates and regulations continue to fluctuate in various regions and there are ongoing global impacts resulting from the pandemic, including challenges\n",
    "and increases in costs for logistics and supply chains, such as increased port congestion, intermittent supplier delays and a shortfall of semiconductor\n",
    "supply. We have also previously been affected by temporary manufacturing closures, employment and compensation adjustments and impediments to\n",
    "administrative activities supporting our product deliveries and deployments.\n",
    "Note 2 - Summary of Significant Accounting Policies\n",
    "Unaudited Interim Financial Statements\n",
    "The consolidated balance sheet as of September 30, 2021, the consolidated statements of operations, the consolidated statements of\n",
    "comprehensive income, the consolidated statements of redeemable noncontrolling interests and equity for the three and nine months ended September\n",
    "30, 2021 and 2020 and the consolidated statements of cash flows for the nine months ended September 30, 2021 and 2020, as well as other information\n",
    "disclosed in the accompanying notes, are unaudited. The consolidated balance sheet as of December 31, 2020 was derived from the audited\n",
    "consolidated financial statements as of that date. The interim consolidated financial statements and the accompanying notes should be read in\n",
    "conjunction with the annual consolidated financial statements and the accompanying notes contained in our Annual Report on Form 10-K for the year\n",
    "ended December 31, 2020.\n",
    "'''"
   ]
  },
  {
   "cell_type": "code",
   "execution_count": 4,
   "id": "95714800",
   "metadata": {},
   "outputs": [
    {
     "data": {
      "text/plain": [
       "['September 30, 2021',\n",
       " 'September 30, 2021',\n",
       " 'December 31, 2020',\n",
       " 'December 31, 2020']"
      ]
     },
     "execution_count": 4,
     "metadata": {},
     "output_type": "execute_result"
    }
   ],
   "source": [
    "import re\n",
    "pattern = '\\w{3,9} \\d{2}, \\d{4}'\n",
    "re.findall(pattern, text)\n"
   ]
  },
  {
   "cell_type": "code",
   "execution_count": 34,
   "id": "ae1479be",
   "metadata": {},
   "outputs": [
    {
     "data": {
      "text/plain": [
       "['Hi, how are you?']"
      ]
     },
     "execution_count": 34,
     "metadata": {},
     "output_type": "execute_result"
    }
   ],
   "source": [
    "text = \"Hi, how are you?\" #write a pattern for start with hi and end with ?\n",
    "pattern = \"^Hi.*\\?$\"\n",
    "re.findall(pattern, text)"
   ]
  },
  {
   "cell_type": "code",
   "execution_count": 38,
   "id": "34692676",
   "metadata": {},
   "outputs": [
    {
     "data": {
      "text/plain": [
       "'******* was derived from the audited on Form 10-K for the year ended *******.'"
      ]
     },
     "execution_count": 38,
     "metadata": {},
     "output_type": "execute_result"
    }
   ],
   "source": [
    "text = '''December 31, 2020 was derived from the audited on Form 10-K for the year ended December 31, 2020.'''\n",
    "\n",
    "pattern = re.compile(r'\\w{3,9} \\d{2}, \\d{4}')\n",
    "pattern.sub(\"*******\", text)"
   ]
  },
  {
   "cell_type": "code",
   "execution_count": 10,
   "id": "73b4b712",
   "metadata": {},
   "outputs": [
    {
     "data": {
      "text/plain": [
       "['u', 'e', 'o']"
      ]
     },
     "execution_count": 10,
     "metadata": {},
     "output_type": "execute_result"
    }
   ],
   "source": [
    "pattern = '[aeiou]'\n",
    "re.findall(pattern, text)"
   ]
  }
 ],
 "metadata": {
  "kernelspec": {
   "display_name": "Python 3",
   "language": "python",
   "name": "python3"
  },
  "language_info": {
   "codemirror_mode": {
    "name": "ipython",
    "version": 3
   },
   "file_extension": ".py",
   "mimetype": "text/x-python",
   "name": "python",
   "nbconvert_exporter": "python",
   "pygments_lexer": "ipython3",
   "version": "3.7.6"
  }
 },
 "nbformat": 4,
 "nbformat_minor": 5
}
