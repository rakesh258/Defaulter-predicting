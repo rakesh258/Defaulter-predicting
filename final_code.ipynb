{
 "cells": [
  {
   "cell_type": "code",
   "execution_count": 1,
   "metadata": {},
   "outputs": [],
   "source": [
    "import numpy as np\n",
    "import matplotlib.pyplot as plt\n",
    "import pandas as pd\n"
   ]
  },
  {
   "cell_type": "code",
   "execution_count": 2,
   "metadata": {},
   "outputs": [],
   "source": [
    "# Read train and test file\n",
    "df = pd.read_csv('train_indessa.csv')\n",
    "Y = df[['loan_status']].values\n",
    "# print(df['loan_status'].value_counts())\n",
    "df_train = df.copy()\n",
    "df_train = df_train.drop(['loan_status'], axis=1)  \n",
    "df_test = pd.read_csv('test_indessa.csv')"
   ]
  },
  {
   "cell_type": "code",
   "execution_count": 3,
   "metadata": {},
   "outputs": [],
   "source": [
    "def data_prepare(df):\n",
    "    # Class Label : Binary Classification\n",
    "    import math\n",
    "    import numpy as np\n",
    "    \n",
    "    # Drop column \n",
    "    df.drop(['desc', 'zip_code', 'emp_title', 'title', 'batch_enrolled', 'grade','purpose', 'home_ownership', 'addr_state', 'verification_status_joint'], axis=1, inplace=True)\n",
    "\n",
    "    # Converts categorical variable into dummy variables.\n",
    "    veri_st = pd.get_dummies(df['verification_status'],drop_first=True)\n",
    "    pymnt_p = pd.get_dummies(df['pymnt_plan'],drop_first=True)\n",
    "    initial_l_s = pd.get_dummies(df['initial_list_status'],drop_first=True)\n",
    "    application_t = pd.get_dummies(df['application_type'],drop_first=True)\n",
    "    \n",
    "    df=pd.concat([df, veri_st, pymnt_p, initial_l_s, application_t],axis=1)\n",
    "    df=df.drop(['verification_status', 'pymnt_plan', 'initial_list_status', 'application_type'], axis=1)\n",
    "\n",
    "    # Data Preprocessing\n",
    "    # Replaces months string with '' \n",
    "    df['term'].replace(to_replace=' months', value='', regex=True, inplace=True) \n",
    "    # Convert it to numeric\n",
    "    df['term'] = pd.to_numeric(df['term'], errors='coerce')\n",
    "    \n",
    "    # Remove string and special character \n",
    "    df['emp_length'].replace('n/a', '0', inplace=True)\n",
    "    df['emp_length'].replace(to_replace='\\+ years', value='', regex=True, inplace=True)\n",
    "    df['emp_length'].replace(to_replace=' years', value='', regex=True, inplace=True)\n",
    "    df['emp_length'].replace(to_replace='< 1 year', value='0', regex=True, inplace=True)\n",
    "    df['emp_length'].replace(to_replace=' year', value='', regex=True, inplace=True)\n",
    "\n",
    "    # Convert it to numeric\n",
    "    df['emp_length'] = pd.to_numeric(df['emp_length'], errors='coerce')\n",
    "    \n",
    "    # Replace character with unique number\n",
    "    df['sub_grade'].replace(to_replace='A', value='0', regex=True, inplace=True)\n",
    "    df['sub_grade'].replace(to_replace='B', value='1', regex=True, inplace=True)\n",
    "    df['sub_grade'].replace(to_replace='C', value='2', regex=True, inplace=True)\n",
    "    df['sub_grade'].replace(to_replace='D', value='3', regex=True, inplace=True)\n",
    "    df['sub_grade'].replace(to_replace='E', value='4', regex=True, inplace=True)\n",
    "    df['sub_grade'].replace(to_replace='F', value='5', regex=True, inplace=True)\n",
    "    df['sub_grade'].replace(to_replace='G', value='6', regex=True, inplace=True) \n",
    "\n",
    "    # Convert it to numeric\n",
    "    df['sub_grade'] = pd.to_numeric(df['sub_grade'], errors='coerce') \n",
    "    \n",
    "    # Remove string like th week NA\n",
    "    df['last_week_pay'].replace(to_replace='th week', value='', regex=True, inplace=True)\n",
    "    df['last_week_pay'].replace(to_replace='NA', value='', regex=True, inplace=True)\n",
    "    # Convert it to numeric\n",
    "    df['last_week_pay'] = pd.to_numeric(df['last_week_pay'], errors='coerce')\n",
    "    \n",
    "    # Fill missing value using median\n",
    "    columns = ['term', 'loan_amnt', 'funded_amnt', 'last_week_pay', 'int_rate', 'sub_grade',\n",
    "               'annual_inc', 'dti', 'mths_since_last_delinq', 'mths_since_last_record', 'open_acc',\n",
    "               'revol_bal', 'revol_util', 'total_acc', 'total_rec_int', 'mths_since_last_major_derog', \n",
    "               'tot_coll_amt', 'tot_cur_bal', 'total_rev_hi_lim', 'emp_length']\n",
    "\n",
    "    # Filling NaN values with median of each column present in columns.\n",
    "    for col in columns:\n",
    "        df[col].fillna(df[col].median(), inplace=True)  \n",
    "\n",
    "    \n",
    "    #Filling NaN values with 0 for each column present in columns.\n",
    "    num_cols = ['acc_now_delinq', 'total_rec_late_fee', 'recoveries', 'collection_recovery_fee', 'collections_12_mths_ex_med', 'delinq_2yrs', 'inq_last_6mths', 'pub_rec']\n",
    "    for col in num_cols:\n",
    "        df[col].fillna(0, inplace=True)        \n",
    "\n",
    "    \n",
    "    # New feature\n",
    "    # 1. How big the loan a person has taken with respect to his earnings, annual income to fund by bank ratio\n",
    "    df['income_to_loan'] = np.round_(df['annual_inc']/df['funded_amnt'], decimals = 2)\n",
    "\n",
    "    # 2. Interest paid so far = interest received till date + Late fee received till date\n",
    "    df['total_int_paid'] = df['total_rec_int'] + df['total_rec_late_fee']\n",
    "\n",
    "    # 3. Calculating EMIs (monthly)\n",
    "    #EMI = [P x R x (1+R)^N] / [(1+R)^N-1]\n",
    "    principal = df['loan_amnt']\n",
    "    rate = df['int_rate'] /(100*12)\n",
    "    time = df['term']\n",
    "\n",
    "    df['emi_per_month'] = np.round_((principal * rate * (1+rate)**time)/((1+rate)**(time)-1), decimals = 2)\n",
    "\n",
    "    # 4. Calculating EMIs paid (in terms of percent) np.round_(in_array, decimals = 2)\n",
    "    df['emi_paid_perc'] = np.round_(((df['last_week_pay'])/(df['term']/12*52+1))*100, decimals = 2)\n",
    "\n",
    "    # df.describe()\n",
    "    print(\"Data set shape:\", df.shape)\n",
    "    return df\n",
    "\n"
   ]
  },
  {
   "cell_type": "code",
   "execution_count": 4,
   "metadata": {},
   "outputs": [
    {
     "name": "stdout",
     "output_type": "stream",
     "text": [
      "Data set shape: (532428, 39)\n"
     ]
    }
   ],
   "source": [
    "# call data preparing function\n",
    "final_df = data_prepare(df_train)\n",
    "# X train data\n",
    "X = final_df[['member_id', 'loan_amnt', 'funded_amnt', 'funded_amnt_inv', 'term', 'int_rate',\n",
    "       'sub_grade', 'emp_length', 'annual_inc', 'dti', 'delinq_2yrs',\n",
    "       'inq_last_6mths', 'mths_since_last_delinq', 'mths_since_last_record',\n",
    "       'open_acc', 'pub_rec', 'revol_bal', 'revol_util', 'total_acc',\n",
    "       'total_rec_int', 'total_rec_late_fee', 'recoveries',\n",
    "       'collection_recovery_fee', 'collections_12_mths_ex_med',\n",
    "       'mths_since_last_major_derog', 'last_week_pay', 'acc_now_delinq',\n",
    "       'tot_coll_amt', 'tot_cur_bal', 'total_rev_hi_lim', 'Source Verified',\n",
    "       'Verified', 'y', 'w', 'JOINT', 'income_to_loan',\n",
    "       'total_int_paid', 'emi_per_month', 'emi_paid_perc']].values\n",
    "\n",
    "\n",
    "from sklearn.model_selection import train_test_split\n",
    "\n",
    "# Split the data into train and test\n",
    "X_train, X_test, Y_train, Y_test = train_test_split(np.array(X), np.array(Y), test_size=0.3,\n",
    "                                                    random_state=10)\n"
   ]
  },
  {
   "cell_type": "code",
   "execution_count": 5,
   "metadata": {},
   "outputs": [
    {
     "name": "stderr",
     "output_type": "stream",
     "text": [
      "IOPub data rate exceeded.\n",
      "The notebook server will temporarily stop sending output\n",
      "to the client in order to avoid crashing it.\n",
      "To change this limit, set the config variable\n",
      "`--NotebookApp.iopub_data_rate_limit`.\n",
      "\n",
      "Current values:\n",
      "NotebookApp.iopub_data_rate_limit=1000000.0 (bytes/sec)\n",
      "NotebookApp.rate_limit_window=3.0 (secs)\n",
      "\n"
     ]
    },
    {
     "name": "stdout",
     "output_type": "stream",
     "text": [
      "              precision    recall  f1-score   support\n",
      "\n",
      "           0       0.96      0.94      0.95    121942\n",
      "           1       0.83      0.87      0.85     37787\n",
      "\n",
      "    accuracy                           0.93    159729\n",
      "   macro avg       0.89      0.91      0.90    159729\n",
      "weighted avg       0.93      0.93      0.93    159729\n",
      "\n",
      "Accuracy of the model:  0.9268761464730888\n"
     ]
    }
   ],
   "source": [
    "#Using Decision Tree classfier\n",
    "from sklearn.tree import DecisionTreeClassifier\n",
    "\n",
    "dr = DecisionTreeClassifier(criterion='gini',random_state=10, max_depth = 6)\n",
    "dr.fit(X_train,Y_train)\n",
    "Y_pred = dr.predict(X_test)\n",
    "\n",
    "print(list(zip(Y_test,Y_pred)))\n",
    "from sklearn.metrics import confusion_matrix, accuracy_score,classification_report\n",
    "confusion_matrix=confusion_matrix(Y_test,Y_pred)\n",
    "print(confusion_matrix)\n",
    "\n",
    "print(\"Classification report: \")\n",
    "print(classification_report(Y_test,Y_pred))\n",
    "accuracy_score=accuracy_score(Y_test, Y_pred)\n",
    "print(\"Accuracy of the model: \",accuracy_score)\n"
   ]
  },
  {
   "cell_type": "code",
   "execution_count": 6,
   "metadata": {},
   "outputs": [
    {
     "name": "stdout",
     "output_type": "stream",
     "text": [
      "ROC-AUC: 90.8714284605%\n"
     ]
    }
   ],
   "source": [
    "from sklearn.metrics import roc_curve, auc \n",
    "from sklearn.metrics import roc_auc_score\n",
    "# AUC ROC score\n",
    "predictions = [round(value) for value in Y_pred]\n",
    "accuracy_per_roc_auc = roc_auc_score(Y_test, predictions)\n",
    "print(\"ROC-AUC: %.10f%%\" % (accuracy_per_roc_auc * 100))"
   ]
  },
  {
   "cell_type": "code",
   "execution_count": 7,
   "metadata": {},
   "outputs": [
    {
     "name": "stdout",
     "output_type": "stream",
     "text": [
      "Data set shape: (354951, 39)\n"
     ]
    }
   ],
   "source": [
    "# Prepre submission file using output of test dataset\n",
    "# call data preparing function\n",
    "finalTest = data_prepare(df_test)\n",
    "# submission_file_name = 'submission'\n",
    "# test_member_id = pd.DataFrame(finalTest['member_id'])\n",
    "# final_pred = pd.DataFrame(dr.predict_proba(np.array(finalTest)))\n",
    "# dfSub = pd.concat([test_member_id, final_pred.loc[:, 1:2]], axis=1)\n",
    "# dfSub.rename(columns={1:'loan_status'}, inplace=True)\n",
    "# dfSub.to_csv((('%s.csv') % (submission_file_name)), index=False)\n",
    "\n",
    "y_pred_valid = dr.predict(np.array(finalTest))\n",
    "submission = pd.DataFrame({\n",
    "        \"member_id\": finalTest[\"member_id\"],\n",
    "        \"loan_status\": y_pred_valid\n",
    "    })\n",
    "submission.to_csv('submission.csv', index=False)"
   ]
  },
  {
   "cell_type": "code",
   "execution_count": 8,
   "metadata": {},
   "outputs": [
    {
     "data": {
      "image/png": "[encoded data removed]",
      "text/plain": [
       "<Figure size 432x288 with 1 Axes>"
      ]
     },
     "metadata": {
      "needs_background": "light"
     },
     "output_type": "display_data"
    }
   ],
   "source": [
    "# Plot ROC-AUC graph\n",
    "y_train_pred = dr.predict(X_train)    \n",
    "y_test_pred = dr.predict(X_test)\n",
    "\n",
    "\n",
    "train_fpr, train_tpr, tr_thresholds = roc_curve(Y_train, y_train_pred)\n",
    "test_fpr, test_tpr, te_thresholds = roc_curve(Y_test, y_test_pred)\n",
    "\n",
    "plt.plot(train_fpr, train_tpr, label=\"Train AUC =\"+str(auc(train_fpr, train_tpr)))\n",
    "plt.plot(test_fpr, test_tpr, label=\"Test AUC =\"+str(auc(test_fpr, test_tpr)))\n",
    "plt.legend()\n",
    "plt.xlabel(\"True Positive Rate(TPR)\", fontweight='bold')\n",
    "plt.ylabel(\"False Positive Rate(FPR)\", fontweight='bold')\n",
    "plt.title(\"ROC-AUC\", fontweight='bold')\n",
    "plt.grid()\n",
    "plt.savefig(\"ROC_AUC.png\")\n",
    "plt.show() "
   ]
  },
  {
   "cell_type": "code",
   "execution_count": null,
   "metadata": {},
   "outputs": [],
   "source": []
  }
 ],
 "metadata": {
  "kernelspec": {
   "display_name": "Python 3",
   "language": "python",
   "name": "python3"
  },
  "language_info": {
   "codemirror_mode": {
    "name": "ipython",
    "version": 3
   },
   "file_extension": ".py",
   "mimetype": "text/x-python",
   "name": "python",
   "nbconvert_exporter": "python",
   "pygments_lexer": "ipython3",
   "version": "3.7.6"
  }
 },
 "nbformat": 4,
 "nbformat_minor": 4
}
